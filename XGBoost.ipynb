{
 "cells": [
  {
   "cell_type": "code",
   "execution_count": 2,
   "metadata": {},
   "outputs": [],
   "source": [
    "import os\n",
    "import numpy as np\n",
    "import pandas as pd\n",
    "import matplotlib"
   ]
  },
  {
   "cell_type": "code",
   "execution_count": 3,
   "metadata": {},
   "outputs": [],
   "source": [
    "# Data Files Locations\n",
    "\n",
    "file_loc_train = \"data_miccai/train\"\n",
    "file_loc_test = \"data_miccai/test\"\n",
    "file_loc_val = \"data_miccai/val\""
   ]
  },
  {
   "cell_type": "code",
   "execution_count": 4,
   "metadata": {},
   "outputs": [
    {
     "name": "stdout",
     "output_type": "stream",
     "text": [
      "Total folders : 1000\n"
     ]
    }
   ],
   "source": [
    "# list of all the folders in the train location \n",
    "list_of_dir  = os.listdir(file_loc_train)\n",
    "\n",
    "print(\"Total folders :\", len(list_of_dir))"
   ]
  },
  {
   "cell_type": "code",
   "execution_count": null,
   "metadata": {},
   "outputs": [],
   "source": []
  },
  {
   "cell_type": "code",
   "execution_count": 5,
   "metadata": {},
   "outputs": [],
   "source": [
    "# This function will find the average of the values in a column.\n",
    "# It will skip the cell with value zero \"0\".\n",
    "\n",
    "def blood_data_avg(pd_data):\n",
    "    row,column = pd_data.shape\n",
    "    \n",
    "    arr_val = [0]*column\n",
    "    \n",
    "    for i in range(column):\n",
    "        sm = 0\n",
    "        cnt = 0\n",
    "        for j in range(row):\n",
    "            if pd_data.iloc[j,i] != 0:\n",
    "                sm += pd_data.iloc[j,i]\n",
    "                cnt+=1\n",
    "        arr_val[i] = sm/cnt\n",
    "    return arr_val\n",
    "\n",
    "\n",
    "def radiology_data_avg(pd_data):\n",
    "    row,column = pd_data.shape\n",
    "    \n",
    "    arr_val = [0]*column\n",
    "    \n",
    "    for i in range(column):\n",
    "        sm = 0\n",
    "        cnt=0\n",
    "        if i==0:\n",
    "            for j in range(row):\n",
    "                if pd_data.iloc[j,i] != 0:\n",
    "                    sm += pd_data.iloc[j,i]\n",
    "                    cnt+=1\n",
    "            arr_val[i] = sm/(cnt*1.0)\n",
    "        else:\n",
    "            for j in range(row):\n",
    "                if(pd_data.iloc[j,i] == True):\n",
    "                    sm+=1\n",
    "                cnt+=1\n",
    "            if(sm>=(cnt/2.0)):\n",
    "                arr_val[i]=1\n",
    "    return arr_val\n",
    "\n",
    "def temperature_data_avg(pd_data):\n",
    "    row,column = pd_data.shape\n",
    "    \n",
    "    arr_val = [0]*column\n",
    "    \n",
    "    for i in range(column):\n",
    "        sm = 0\n",
    "        cnt = 0\n",
    "        for j in range(row):\n",
    "            if pd_data.iloc[j,i] != 0:\n",
    "                sm += pd_data.iloc[j,i]\n",
    "                cnt+=1\n",
    "        arr_val[i] = sm/cnt\n",
    "    return arr_val\n",
    "\n",
    "def outcome_data_avg(pd_data):\n",
    "    row,column = pd_data.shape\n",
    "    \n",
    "    output = 0\n",
    "    for i in range(1,column):\n",
    "        if pd_data.iloc[0,i] == 1:\n",
    "            output += 2**(i-1)\n",
    "    return output\n",
    "    "
   ]
  },
  {
   "cell_type": "code",
   "execution_count": 6,
   "metadata": {},
   "outputs": [],
   "source": [
    "output_combined_file_loc = \"output/data_blood_radiology_temperature_train.csv\"\n",
    "Y_file_loc = \"output/Y_blood_radiology_temperature_train.csv\"\n",
    "\n",
    "output_combined = []\n",
    "Y = []\n",
    "\n",
    "for i in list_of_dir:\n",
    "    cd_list_of_dir = file_loc_train+\"/\"+i\n",
    "    \n",
    "    file_read_blood = pd.read_csv(cd_list_of_dir+\"/data_bloodvalues.csv\", sep=\",\")\n",
    "    file_read_radiology = pd.read_csv(cd_list_of_dir+\"/data_radiology.csv\", sep=\",\")\n",
    "    file_read_temperature = pd.read_csv(cd_list_of_dir+\"/data_temperature.csv\", sep=\",\")\n",
    "    \n",
    "    file_read_outcome = pd.read_csv(cd_list_of_dir+\"/outcome.csv\", sep=\",\")\n",
    "    Y.append(outcome_data_avg(file_read_outcome))\n",
    "    \n",
    "    output_combined.append(blood_data_avg(file_read_blood)[1:] + radiology_data_avg(file_read_radiology)[1:] + temperature_data_avg(file_read_temperature)[1:])"
   ]
  },
  {
   "cell_type": "code",
   "execution_count": 7,
   "metadata": {},
   "outputs": [],
   "source": [
    "output_data_combined_pd = pd.DataFrame(output_combined)\n",
    "output_data_combined_pd.to_csv(output_combined_file_loc, sep=',', index=False)\n",
    "\n",
    "Y_pd = pd.DataFrame(Y)\n",
    "Y_pd.to_csv(Y_file_loc, sep=',', index=False)"
   ]
  },
  {
   "cell_type": "code",
   "execution_count": 8,
   "metadata": {},
   "outputs": [],
   "source": [
    "# Training XGBoost\n",
    "X_train = output_data_combined_pd\n",
    "y_train = Y_pd"
   ]
  },
  {
   "cell_type": "code",
   "execution_count": 9,
   "metadata": {},
   "outputs": [
    {
     "data": {
      "text/html": [
       "<style>#sk-container-id-1 {color: black;background-color: white;}#sk-container-id-1 pre{padding: 0;}#sk-container-id-1 div.sk-toggleable {background-color: white;}#sk-container-id-1 label.sk-toggleable__label {cursor: pointer;display: block;width: 100%;margin-bottom: 0;padding: 0.3em;box-sizing: border-box;text-align: center;}#sk-container-id-1 label.sk-toggleable__label-arrow:before {content: \"▸\";float: left;margin-right: 0.25em;color: #696969;}#sk-container-id-1 label.sk-toggleable__label-arrow:hover:before {color: black;}#sk-container-id-1 div.sk-estimator:hover label.sk-toggleable__label-arrow:before {color: black;}#sk-container-id-1 div.sk-toggleable__content {max-height: 0;max-width: 0;overflow: hidden;text-align: left;background-color: #f0f8ff;}#sk-container-id-1 div.sk-toggleable__content pre {margin: 0.2em;color: black;border-radius: 0.25em;background-color: #f0f8ff;}#sk-container-id-1 input.sk-toggleable__control:checked~div.sk-toggleable__content {max-height: 200px;max-width: 100%;overflow: auto;}#sk-container-id-1 input.sk-toggleable__control:checked~label.sk-toggleable__label-arrow:before {content: \"▾\";}#sk-container-id-1 div.sk-estimator input.sk-toggleable__control:checked~label.sk-toggleable__label {background-color: #d4ebff;}#sk-container-id-1 div.sk-label input.sk-toggleable__control:checked~label.sk-toggleable__label {background-color: #d4ebff;}#sk-container-id-1 input.sk-hidden--visually {border: 0;clip: rect(1px 1px 1px 1px);clip: rect(1px, 1px, 1px, 1px);height: 1px;margin: -1px;overflow: hidden;padding: 0;position: absolute;width: 1px;}#sk-container-id-1 div.sk-estimator {font-family: monospace;background-color: #f0f8ff;border: 1px dotted black;border-radius: 0.25em;box-sizing: border-box;margin-bottom: 0.5em;}#sk-container-id-1 div.sk-estimator:hover {background-color: #d4ebff;}#sk-container-id-1 div.sk-parallel-item::after {content: \"\";width: 100%;border-bottom: 1px solid gray;flex-grow: 1;}#sk-container-id-1 div.sk-label:hover label.sk-toggleable__label {background-color: #d4ebff;}#sk-container-id-1 div.sk-serial::before {content: \"\";position: absolute;border-left: 1px solid gray;box-sizing: border-box;top: 0;bottom: 0;left: 50%;z-index: 0;}#sk-container-id-1 div.sk-serial {display: flex;flex-direction: column;align-items: center;background-color: white;padding-right: 0.2em;padding-left: 0.2em;position: relative;}#sk-container-id-1 div.sk-item {position: relative;z-index: 1;}#sk-container-id-1 div.sk-parallel {display: flex;align-items: stretch;justify-content: center;background-color: white;position: relative;}#sk-container-id-1 div.sk-item::before, #sk-container-id-1 div.sk-parallel-item::before {content: \"\";position: absolute;border-left: 1px solid gray;box-sizing: border-box;top: 0;bottom: 0;left: 50%;z-index: -1;}#sk-container-id-1 div.sk-parallel-item {display: flex;flex-direction: column;z-index: 1;position: relative;background-color: white;}#sk-container-id-1 div.sk-parallel-item:first-child::after {align-self: flex-end;width: 50%;}#sk-container-id-1 div.sk-parallel-item:last-child::after {align-self: flex-start;width: 50%;}#sk-container-id-1 div.sk-parallel-item:only-child::after {width: 0;}#sk-container-id-1 div.sk-dashed-wrapped {border: 1px dashed gray;margin: 0 0.4em 0.5em 0.4em;box-sizing: border-box;padding-bottom: 0.4em;background-color: white;}#sk-container-id-1 div.sk-label label {font-family: monospace;font-weight: bold;display: inline-block;line-height: 1.2em;}#sk-container-id-1 div.sk-label-container {text-align: center;}#sk-container-id-1 div.sk-container {/* jupyter's `normalize.less` sets `[hidden] { display: none; }` but bootstrap.min.css set `[hidden] { display: none !important; }` so we also need the `!important` here to be able to override the default hidden behavior on the sphinx rendered scikit-learn.org. See: https://github.com/scikit-learn/scikit-learn/issues/21755 */display: inline-block !important;position: relative;}#sk-container-id-1 div.sk-text-repr-fallback {display: none;}</style><div id=\"sk-container-id-1\" class=\"sk-top-container\"><div class=\"sk-text-repr-fallback\"><pre>XGBClassifier(base_score=0.5, booster=&#x27;gbtree&#x27;, callbacks=None,\n",
       "              colsample_bylevel=1, colsample_bynode=1, colsample_bytree=1,\n",
       "              early_stopping_rounds=None, enable_categorical=False,\n",
       "              eval_metric=None, feature_types=None, gamma=0, gpu_id=-1,\n",
       "              grow_policy=&#x27;depthwise&#x27;, importance_type=None,\n",
       "              interaction_constraints=&#x27;&#x27;, learning_rate=0.300000012,\n",
       "              max_bin=256, max_cat_threshold=64, max_cat_to_onehot=4,\n",
       "              max_delta_step=0, max_depth=10, max_leaves=0, min_child_weight=1,\n",
       "              missing=nan, monotone_constraints=&#x27;()&#x27;, n_estimators=50, n_jobs=0,\n",
       "              num_parallel_tree=1, objective=&#x27;multi:softprob&#x27;, predictor=&#x27;auto&#x27;, ...)</pre><b>In a Jupyter environment, please rerun this cell to show the HTML representation or trust the notebook. <br />On GitHub, the HTML representation is unable to render, please try loading this page with nbviewer.org.</b></div><div class=\"sk-container\" hidden><div class=\"sk-item\"><div class=\"sk-estimator sk-toggleable\"><input class=\"sk-toggleable__control sk-hidden--visually\" id=\"sk-estimator-id-1\" type=\"checkbox\" checked><label for=\"sk-estimator-id-1\" class=\"sk-toggleable__label sk-toggleable__label-arrow\">XGBClassifier</label><div class=\"sk-toggleable__content\"><pre>XGBClassifier(base_score=0.5, booster=&#x27;gbtree&#x27;, callbacks=None,\n",
       "              colsample_bylevel=1, colsample_bynode=1, colsample_bytree=1,\n",
       "              early_stopping_rounds=None, enable_categorical=False,\n",
       "              eval_metric=None, feature_types=None, gamma=0, gpu_id=-1,\n",
       "              grow_policy=&#x27;depthwise&#x27;, importance_type=None,\n",
       "              interaction_constraints=&#x27;&#x27;, learning_rate=0.300000012,\n",
       "              max_bin=256, max_cat_threshold=64, max_cat_to_onehot=4,\n",
       "              max_delta_step=0, max_depth=10, max_leaves=0, min_child_weight=1,\n",
       "              missing=nan, monotone_constraints=&#x27;()&#x27;, n_estimators=50, n_jobs=0,\n",
       "              num_parallel_tree=1, objective=&#x27;multi:softprob&#x27;, predictor=&#x27;auto&#x27;, ...)</pre></div></div></div></div></div>"
      ],
      "text/plain": [
       "XGBClassifier(base_score=0.5, booster='gbtree', callbacks=None,\n",
       "              colsample_bylevel=1, colsample_bynode=1, colsample_bytree=1,\n",
       "              early_stopping_rounds=None, enable_categorical=False,\n",
       "              eval_metric=None, feature_types=None, gamma=0, gpu_id=-1,\n",
       "              grow_policy='depthwise', importance_type=None,\n",
       "              interaction_constraints='', learning_rate=0.300000012,\n",
       "              max_bin=256, max_cat_threshold=64, max_cat_to_onehot=4,\n",
       "              max_delta_step=0, max_depth=10, max_leaves=0, min_child_weight=1,\n",
       "              missing=nan, monotone_constraints='()', n_estimators=50, n_jobs=0,\n",
       "              num_parallel_tree=1, objective='multi:softprob', predictor='auto', ...)"
      ]
     },
     "execution_count": 9,
     "metadata": {},
     "output_type": "execute_result"
    }
   ],
   "source": [
    "# fit model no training data\n",
    "from xgboost import XGBClassifier\n",
    "\n",
    "model = XGBClassifier(n_estimators=50, max_depth=10)\n",
    "model.fit(X_train, y_train)"
   ]
  },
  {
   "cell_type": "code",
   "execution_count": 10,
   "metadata": {},
   "outputs": [
    {
     "name": "stdout",
     "output_type": "stream",
     "text": [
      "Total folders : 250\n"
     ]
    }
   ],
   "source": [
    "# list of all the folders in the train location \n",
    "list_of_dir  = os.listdir(file_loc_test)\n",
    "\n",
    "print(\"Total folders :\", len(list_of_dir))"
   ]
  },
  {
   "cell_type": "code",
   "execution_count": 11,
   "metadata": {},
   "outputs": [],
   "source": [
    "output_combined_file_loc = \"output/data_blood_radiology_temperature_test.csv\"\n",
    "Y_file_loc = \"output/Y_blood_radiology_temperature_test.csv\"\n",
    "\n",
    "output_combined = []\n",
    "Y = []\n",
    "\n",
    "for i in list_of_dir:\n",
    "    cd_list_of_dir = file_loc_test+\"/\"+i\n",
    "    \n",
    "    file_read_blood = pd.read_csv(cd_list_of_dir+\"/data_bloodvalues.csv\", sep=\",\")\n",
    "    file_read_radiology = pd.read_csv(cd_list_of_dir+\"/data_radiology.csv\", sep=\",\")\n",
    "    file_read_temperature = pd.read_csv(cd_list_of_dir+\"/data_temperature.csv\", sep=\",\")\n",
    "    \n",
    "    file_read_outcome = pd.read_csv(cd_list_of_dir+\"/outcome.csv\", sep=\",\")\n",
    "    Y.append(outcome_data_avg(file_read_outcome))\n",
    "    \n",
    "    output_combined.append(blood_data_avg(file_read_blood)[1:] + radiology_data_avg(file_read_radiology)[1:] + temperature_data_avg(file_read_temperature)[1:])"
   ]
  },
  {
   "cell_type": "code",
   "execution_count": 12,
   "metadata": {},
   "outputs": [],
   "source": [
    "output_data_combined_pd = pd.DataFrame(output_combined)\n",
    "output_data_combined_pd.to_csv(output_combined_file_loc, sep=',', index=False)\n",
    "\n",
    "Y_pd = pd.DataFrame(Y)\n",
    "Y_pd.to_csv(Y_file_loc, sep=',', index=False)"
   ]
  },
  {
   "cell_type": "code",
   "execution_count": 13,
   "metadata": {},
   "outputs": [],
   "source": [
    "# Training XGBoost\n",
    "X_test = output_data_combined_pd\n",
    "y_test = Y_pd"
   ]
  },
  {
   "cell_type": "code",
   "execution_count": 14,
   "metadata": {},
   "outputs": [],
   "source": [
    "res = model.predict(X_test)"
   ]
  },
  {
   "cell_type": "code",
   "execution_count": 15,
   "metadata": {},
   "outputs": [
    {
     "name": "stdout",
     "output_type": "stream",
     "text": [
      "accuracy: 0.564\n"
     ]
    }
   ],
   "source": [
    "j = 0\n",
    "cnt = 0\n",
    "for i in y_test[0]:\n",
    "    if i == res[j]:\n",
    "        cnt+=1\n",
    "    j+=1\n",
    "\n",
    "print(\"accuracy:\",cnt/len(res))"
   ]
  },
  {
   "cell_type": "code",
   "execution_count": null,
   "metadata": {},
   "outputs": [],
   "source": []
  }
 ],
 "metadata": {
  "kernelspec": {
   "display_name": "col865_p",
   "language": "python",
   "name": "col865_p"
  },
  "language_info": {
   "codemirror_mode": {
    "name": "ipython",
    "version": 3
   },
   "file_extension": ".py",
   "mimetype": "text/x-python",
   "name": "python",
   "nbconvert_exporter": "python",
   "pygments_lexer": "ipython3",
   "version": "3.8.15"
  }
 },
 "nbformat": 4,
 "nbformat_minor": 2
}
